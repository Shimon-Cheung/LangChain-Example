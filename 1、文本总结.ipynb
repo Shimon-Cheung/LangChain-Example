{
 "cells": [
  {
   "cell_type": "code",
   "execution_count": 1,
   "id": "initial_id",
   "metadata": {
    "collapsed": true,
    "ExecuteTime": {
     "end_time": "2023-09-18T13:19:29.678059100Z",
     "start_time": "2023-09-18T13:19:03.852205100Z"
    }
   },
   "outputs": [
    {
     "name": "stdout",
     "output_type": "stream",
     "text": [
      "Looking in indexes: https://pypi.tuna.tsinghua.edu.cn/simple\n",
      "Collecting langchain\n",
      "  Downloading https://pypi.tuna.tsinghua.edu.cn/packages/86/dc/e2c7599b03455ea675107472b60e836f693ac8453e7c1119b61e6e60f574/langchain-0.0.292-py3-none-any.whl (1.7 MB)\n",
      "     ---------------------------------------- 0.0/1.7 MB ? eta -:--:--\n",
      "     - -------------------------------------- 0.1/1.7 MB 3.2 MB/s eta 0:00:01\n",
      "     --- ------------------------------------ 0.2/1.7 MB 1.8 MB/s eta 0:00:01\n",
      "     -------- ------------------------------- 0.4/1.7 MB 2.8 MB/s eta 0:00:01\n",
      "     --------------- ------------------------ 0.6/1.7 MB 4.0 MB/s eta 0:00:01\n",
      "     -------------------------- ------------- 1.1/1.7 MB 5.4 MB/s eta 0:00:01\n",
      "     ------------------------------------ --- 1.5/1.7 MB 6.5 MB/s eta 0:00:01\n",
      "     ------------------------------------- -- 1.6/1.7 MB 6.3 MB/s eta 0:00:01\n",
      "     ---------------------------------------- 1.7/1.7 MB 5.1 MB/s eta 0:00:00\n",
      "Requirement already satisfied: PyYAML>=5.3 in d:\\miniconda3\\envs\\llm\\lib\\site-packages (from langchain) (6.0.1)\n",
      "Collecting SQLAlchemy<3,>=1.4 (from langchain)\n",
      "  Using cached https://pypi.tuna.tsinghua.edu.cn/packages/01/fb/becd158acfec58b7a34d04affe79df9f8e5f95aa2114b5dacf50a8752f20/SQLAlchemy-2.0.20-cp39-cp39-win_amd64.whl (2.0 MB)\n",
      "Collecting aiohttp<4.0.0,>=3.8.3 (from langchain)\n",
      "  Using cached https://pypi.tuna.tsinghua.edu.cn/packages/c2/7c/66aff492b444f0d089bd74ffcb7346ebc3521ba68c77ac5479a2b947091c/aiohttp-3.8.5-cp39-cp39-win_amd64.whl (327 kB)\n",
      "Collecting async-timeout<5.0.0,>=4.0.0 (from langchain)\n",
      "  Using cached https://pypi.tuna.tsinghua.edu.cn/packages/a7/fa/e01228c2938de91d47b307831c62ab9e4001e747789d0b05baf779a6488c/async_timeout-4.0.3-py3-none-any.whl (5.7 kB)\n",
      "Collecting dataclasses-json<0.6.0,>=0.5.7 (from langchain)\n",
      "  Using cached https://pypi.tuna.tsinghua.edu.cn/packages/97/5f/e7cc90f36152810cab08b6c9c1125e8bcb9d76f8b3018d101b5f877b386c/dataclasses_json-0.5.14-py3-none-any.whl (26 kB)\n",
      "Collecting langsmith<0.1.0,>=0.0.21 (from langchain)\n",
      "  Downloading https://pypi.tuna.tsinghua.edu.cn/packages/14/f7/26eec232bff5c3d8821b8b13a656a31c25ee3c74f7a54574ad67c1d3d0db/langsmith-0.0.38-py3-none-any.whl (38 kB)\n",
      "Collecting numexpr<3.0.0,>=2.8.4 (from langchain)\n",
      "  Downloading https://pypi.tuna.tsinghua.edu.cn/packages/22/45/336708903fb50fd460b20e2361237e9b0524863fd2fccf31ac5ec9b391e0/numexpr-2.8.6-cp39-cp39-win_amd64.whl (94 kB)\n",
      "     ---------------------------------------- 0.0/95.0 kB ? eta -:--:--\n",
      "     ---------------------------------------- 95.0/95.0 kB ? eta 0:00:00\n",
      "Collecting numpy<2,>=1 (from langchain)\n",
      "  Downloading https://pypi.tuna.tsinghua.edu.cn/packages/97/43/4cd9dc8c051537ed0613fcfc4229dfb9eb39fe058c8d42632977465bfdb5/numpy-1.26.0-cp39-cp39-win_amd64.whl (15.8 MB)\n",
      "     ---------------------------------------- 0.0/15.8 MB ? eta -:--:--\n",
      "      --------------------------------------- 0.2/15.8 MB 13.4 MB/s eta 0:00:02\n",
      "      --------------------------------------- 0.4/15.8 MB 4.9 MB/s eta 0:00:04\n",
      "     - -------------------------------------- 0.6/15.8 MB 5.6 MB/s eta 0:00:03\n",
      "     -- ------------------------------------- 1.0/15.8 MB 6.3 MB/s eta 0:00:03\n",
      "     --- ------------------------------------ 1.4/15.8 MB 7.0 MB/s eta 0:00:03\n",
      "     ---- ----------------------------------- 1.7/15.8 MB 6.8 MB/s eta 0:00:03\n",
      "     ----- ---------------------------------- 2.1/15.8 MB 7.5 MB/s eta 0:00:02\n",
      "     ------ --------------------------------- 2.6/15.8 MB 7.8 MB/s eta 0:00:02\n",
      "     ------- -------------------------------- 2.9/15.8 MB 7.8 MB/s eta 0:00:02\n",
      "     -------- ------------------------------- 3.4/15.8 MB 8.3 MB/s eta 0:00:02\n",
      "     --------- ------------------------------ 3.9/15.8 MB 8.5 MB/s eta 0:00:02\n",
      "     ---------- ----------------------------- 4.3/15.8 MB 8.5 MB/s eta 0:00:02\n",
      "     ----------- ---------------------------- 4.7/15.8 MB 8.9 MB/s eta 0:00:02\n",
      "     ------------- -------------------------- 5.2/15.8 MB 9.0 MB/s eta 0:00:02\n",
      "     -------------- ------------------------- 5.7/15.8 MB 9.1 MB/s eta 0:00:02\n",
      "     --------------- ------------------------ 6.3/15.8 MB 9.3 MB/s eta 0:00:02\n",
      "     ----------------- ---------------------- 6.7/15.8 MB 9.6 MB/s eta 0:00:01\n",
      "     ------------------ --------------------- 7.3/15.8 MB 9.7 MB/s eta 0:00:01\n",
      "     ------------------- -------------------- 7.8/15.8 MB 9.7 MB/s eta 0:00:01\n",
      "     -------------------- ------------------- 8.3/15.8 MB 9.8 MB/s eta 0:00:01\n",
      "     ---------------------- ----------------- 8.8/15.8 MB 9.8 MB/s eta 0:00:01\n",
      "     ----------------------- ---------------- 9.3/15.8 MB 9.9 MB/s eta 0:00:01\n",
      "     ----------------------- ---------------- 9.4/15.8 MB 10.0 MB/s eta 0:00:01\n",
      "     ----------------------- ---------------- 9.4/15.8 MB 10.0 MB/s eta 0:00:01\n",
      "     ------------------------- -------------- 9.9/15.8 MB 9.5 MB/s eta 0:00:01\n",
      "     -------------------------- ------------ 10.7/15.8 MB 10.4 MB/s eta 0:00:01\n",
      "     --------------------------- ----------- 11.3/15.8 MB 10.4 MB/s eta 0:00:01\n",
      "     ---------------------------- ---------- 11.7/15.8 MB 10.7 MB/s eta 0:00:01\n",
      "     ---------------------------- ---------- 11.7/15.8 MB 10.7 MB/s eta 0:00:01\n",
      "     ---------------------------- ---------- 11.7/15.8 MB 10.7 MB/s eta 0:00:01\n",
      "     -------------------------------- ------ 13.1/15.8 MB 11.1 MB/s eta 0:00:01\n",
      "     --------------------------------- ----- 13.6/15.8 MB 11.1 MB/s eta 0:00:01\n",
      "     ---------------------------------- ---- 14.1/15.8 MB 11.1 MB/s eta 0:00:01\n",
      "     ---------------------------------- ---- 14.2/15.8 MB 11.3 MB/s eta 0:00:01\n",
      "     ---------------------------------- ---- 14.2/15.8 MB 11.3 MB/s eta 0:00:01\n",
      "     ----------------------------------- --- 14.4/15.8 MB 10.2 MB/s eta 0:00:01\n",
      "     ----------------------------------- --- 14.4/15.8 MB 10.2 MB/s eta 0:00:01\n",
      "     --------------------------------------  15.8/15.8 MB 10.6 MB/s eta 0:00:01\n",
      "     --------------------------------------- 15.8/15.8 MB 10.2 MB/s eta 0:00:00\n",
      "Collecting pydantic<3,>=1 (from langchain)\n",
      "  Downloading https://pypi.tuna.tsinghua.edu.cn/packages/82/06/fafdc75e48b248eff364b4249af4bcc6952225e8f20e8205820afc66e88e/pydantic-2.3.0-py3-none-any.whl (374 kB)\n",
      "     ---------------------------------------- 0.0/374.5 kB ? eta -:--:--\n",
      "     ------------------------------------- 374.5/374.5 kB 11.8 MB/s eta 0:00:00\n",
      "Requirement already satisfied: requests<3,>=2 in d:\\miniconda3\\envs\\llm\\lib\\site-packages (from langchain) (2.31.0)\n",
      "Collecting tenacity<9.0.0,>=8.1.0 (from langchain)\n",
      "  Using cached https://pypi.tuna.tsinghua.edu.cn/packages/f4/f1/990741d5bb2487d529d20a433210ffa136a367751e454214013b441c4575/tenacity-8.2.3-py3-none-any.whl (24 kB)\n",
      "Requirement already satisfied: attrs>=17.3.0 in d:\\miniconda3\\envs\\llm\\lib\\site-packages (from aiohttp<4.0.0,>=3.8.3->langchain) (23.1.0)\n",
      "Requirement already satisfied: charset-normalizer<4.0,>=2.0 in d:\\miniconda3\\envs\\llm\\lib\\site-packages (from aiohttp<4.0.0,>=3.8.3->langchain) (3.2.0)\n",
      "Collecting multidict<7.0,>=4.5 (from aiohttp<4.0.0,>=3.8.3->langchain)\n",
      "  Using cached https://pypi.tuna.tsinghua.edu.cn/packages/f1/d2/d735d40355ce41f6d1c50a5d4feef47cd4aad0e2809dd2c8cb01601f04ac/multidict-6.0.4-cp39-cp39-win_amd64.whl (28 kB)\n",
      "Collecting yarl<2.0,>=1.0 (from aiohttp<4.0.0,>=3.8.3->langchain)\n",
      "  Using cached https://pypi.tuna.tsinghua.edu.cn/packages/a6/a4/451ac414ebe15fd6b49a457c7e01f0a06f9b512c36e4388a9cfb26568fea/yarl-1.9.2-cp39-cp39-win_amd64.whl (61 kB)\n",
      "Collecting frozenlist>=1.1.1 (from aiohttp<4.0.0,>=3.8.3->langchain)\n",
      "  Using cached https://pypi.tuna.tsinghua.edu.cn/packages/f9/16/ef36f5b20ee10dba86d4b5223d55b416e97dfa2dbf5546f0c6d9aa8a26ba/frozenlist-1.4.0-cp39-cp39-win_amd64.whl (44 kB)\n",
      "Collecting aiosignal>=1.1.2 (from aiohttp<4.0.0,>=3.8.3->langchain)\n",
      "  Using cached https://pypi.tuna.tsinghua.edu.cn/packages/76/ac/a7305707cb852b7e16ff80eaf5692309bde30e2b1100a1fcacdc8f731d97/aiosignal-1.3.1-py3-none-any.whl (7.6 kB)\n",
      "Collecting marshmallow<4.0.0,>=3.18.0 (from dataclasses-json<0.6.0,>=0.5.7->langchain)\n",
      "  Using cached https://pypi.tuna.tsinghua.edu.cn/packages/ed/3c/cebfdcad015240014ff08b883d1c0c427f2ba45ae8c6572851b6ef136cad/marshmallow-3.20.1-py3-none-any.whl (49 kB)\n",
      "Collecting typing-inspect<1,>=0.4.0 (from dataclasses-json<0.6.0,>=0.5.7->langchain)\n",
      "  Using cached https://pypi.tuna.tsinghua.edu.cn/packages/65/f3/107a22063bf27bdccf2024833d3445f4eea42b2e598abfbd46f6a63b6cb0/typing_inspect-0.9.0-py3-none-any.whl (8.8 kB)\n",
      "Collecting annotated-types>=0.4.0 (from pydantic<3,>=1->langchain)\n",
      "  Downloading https://pypi.tuna.tsinghua.edu.cn/packages/d8/f0/a2ee543a96cc624c35a9086f39b1ed2aa403c6d355dfe47a11ee5c64a164/annotated_types-0.5.0-py3-none-any.whl (11 kB)\n",
      "Collecting pydantic-core==2.6.3 (from pydantic<3,>=1->langchain)\n",
      "  Downloading https://pypi.tuna.tsinghua.edu.cn/packages/15/e8/508c94592226d9ddf0696a54c9d3c03018842dedc734830de0affa9b0eef/pydantic_core-2.6.3-cp39-none-win_amd64.whl (1.7 MB)\n",
      "     ---------------------------------------- 0.0/1.7 MB ? eta -:--:--\n",
      "     ----------- ---------------------------- 0.5/1.7 MB 16.0 MB/s eta 0:00:01\n",
      "     ---------------------- ----------------- 1.0/1.7 MB 12.6 MB/s eta 0:00:01\n",
      "     ---------------------- ----------------- 1.0/1.7 MB 12.6 MB/s eta 0:00:01\n",
      "     ----------------------- ---------------- 1.0/1.7 MB 7.1 MB/s eta 0:00:01\n",
      "     ----------------------- ---------------- 1.0/1.7 MB 7.1 MB/s eta 0:00:01\n",
      "     ----------------------- ---------------- 1.0/1.7 MB 7.1 MB/s eta 0:00:01\n",
      "     ----------------------- ---------------- 1.0/1.7 MB 7.1 MB/s eta 0:00:01\n",
      "     ----------------------- ---------------- 1.0/1.7 MB 7.1 MB/s eta 0:00:01\n",
      "     ---------------------------------------- 1.7/1.7 MB 4.8 MB/s eta 0:00:00\n",
      "Requirement already satisfied: typing-extensions>=4.6.1 in d:\\miniconda3\\envs\\llm\\lib\\site-packages (from pydantic<3,>=1->langchain) (4.8.0)\n",
      "Requirement already satisfied: idna<4,>=2.5 in d:\\miniconda3\\envs\\llm\\lib\\site-packages (from requests<3,>=2->langchain) (3.4)\n",
      "Requirement already satisfied: urllib3<3,>=1.21.1 in d:\\miniconda3\\envs\\llm\\lib\\site-packages (from requests<3,>=2->langchain) (2.0.4)\n",
      "Requirement already satisfied: certifi>=2017.4.17 in d:\\miniconda3\\envs\\llm\\lib\\site-packages (from requests<3,>=2->langchain) (2023.7.22)\n",
      "Collecting greenlet!=0.4.17 (from SQLAlchemy<3,>=1.4->langchain)\n",
      "  Using cached https://pypi.tuna.tsinghua.edu.cn/packages/b3/89/1d3b78577a6b2762cb254f6ce5faec9b7c7b23052d1cdb7237273ff37d10/greenlet-2.0.2-cp39-cp39-win_amd64.whl (192 kB)\n",
      "Requirement already satisfied: packaging>=17.0 in d:\\miniconda3\\envs\\llm\\lib\\site-packages (from marshmallow<4.0.0,>=3.18.0->dataclasses-json<0.6.0,>=0.5.7->langchain) (23.1)\n",
      "Requirement already satisfied: mypy-extensions>=0.3.0 in d:\\miniconda3\\envs\\llm\\lib\\site-packages (from typing-inspect<1,>=0.4.0->dataclasses-json<0.6.0,>=0.5.7->langchain) (1.0.0)\n",
      "Installing collected packages: typing-inspect, tenacity, pydantic-core, numpy, multidict, marshmallow, greenlet, frozenlist, async-timeout, annotated-types, yarl, SQLAlchemy, pydantic, numexpr, dataclasses-json, aiosignal, langsmith, aiohttp, langchain\n",
      "Successfully installed SQLAlchemy-2.0.20 aiohttp-3.8.5 aiosignal-1.3.1 annotated-types-0.5.0 async-timeout-4.0.3 dataclasses-json-0.5.14 frozenlist-1.4.0 greenlet-2.0.2 langchain-0.0.292 langsmith-0.0.38 marshmallow-3.20.1 multidict-6.0.4 numexpr-2.8.6 numpy-1.26.0 pydantic-2.3.0 pydantic-core-2.6.3 tenacity-8.2.3 typing-inspect-0.9.0 yarl-1.9.2\n",
      "Looking in indexes: https://pypi.tuna.tsinghua.edu.cn/simple\n",
      "Collecting openai\n",
      "  Using cached https://pypi.tuna.tsinghua.edu.cn/packages/ae/59/911d6e5f1d7514d79c527067643376cddcf4cb8d1728e599b3b03ab51c69/openai-0.28.0-py3-none-any.whl (76 kB)\n",
      "Requirement already satisfied: requests>=2.20 in d:\\miniconda3\\envs\\llm\\lib\\site-packages (from openai) (2.31.0)\n",
      "Collecting tqdm (from openai)\n",
      "  Using cached https://pypi.tuna.tsinghua.edu.cn/packages/00/e5/f12a80907d0884e6dff9c16d0c0114d81b8cd07dc3ae54c5e962cc83037e/tqdm-4.66.1-py3-none-any.whl (78 kB)\n",
      "Requirement already satisfied: aiohttp in d:\\miniconda3\\envs\\llm\\lib\\site-packages (from openai) (3.8.5)\n",
      "Requirement already satisfied: charset-normalizer<4,>=2 in d:\\miniconda3\\envs\\llm\\lib\\site-packages (from requests>=2.20->openai) (3.2.0)\n",
      "Requirement already satisfied: idna<4,>=2.5 in d:\\miniconda3\\envs\\llm\\lib\\site-packages (from requests>=2.20->openai) (3.4)\n",
      "Requirement already satisfied: urllib3<3,>=1.21.1 in d:\\miniconda3\\envs\\llm\\lib\\site-packages (from requests>=2.20->openai) (2.0.4)\n",
      "Requirement already satisfied: certifi>=2017.4.17 in d:\\miniconda3\\envs\\llm\\lib\\site-packages (from requests>=2.20->openai) (2023.7.22)\n",
      "Requirement already satisfied: attrs>=17.3.0 in d:\\miniconda3\\envs\\llm\\lib\\site-packages (from aiohttp->openai) (23.1.0)\n",
      "Requirement already satisfied: multidict<7.0,>=4.5 in d:\\miniconda3\\envs\\llm\\lib\\site-packages (from aiohttp->openai) (6.0.4)\n",
      "Requirement already satisfied: async-timeout<5.0,>=4.0.0a3 in d:\\miniconda3\\envs\\llm\\lib\\site-packages (from aiohttp->openai) (4.0.3)\n",
      "Requirement already satisfied: yarl<2.0,>=1.0 in d:\\miniconda3\\envs\\llm\\lib\\site-packages (from aiohttp->openai) (1.9.2)\n",
      "Requirement already satisfied: frozenlist>=1.1.1 in d:\\miniconda3\\envs\\llm\\lib\\site-packages (from aiohttp->openai) (1.4.0)\n",
      "Requirement already satisfied: aiosignal>=1.1.2 in d:\\miniconda3\\envs\\llm\\lib\\site-packages (from aiohttp->openai) (1.3.1)\n",
      "Requirement already satisfied: colorama in d:\\miniconda3\\envs\\llm\\lib\\site-packages (from tqdm->openai) (0.4.6)\n",
      "Installing collected packages: tqdm, openai\n",
      "Successfully installed openai-0.28.0 tqdm-4.66.1\n",
      "Looking in indexes: https://pypi.tuna.tsinghua.edu.cn/simple\n",
      "Collecting tiktoken\n",
      "  Downloading https://pypi.tuna.tsinghua.edu.cn/packages/91/cf/7f3b821152f7abb240950133c60c394f7421a5791b020cedb190ff7a61b4/tiktoken-0.5.1-cp39-cp39-win_amd64.whl (760 kB)\n",
      "     ---------------------------------------- 0.0/760.0 kB ? eta -:--:--\n",
      "     - ----------------------------------- 41.0/760.0 kB 960.0 kB/s eta 0:00:01\n",
      "     ----- -------------------------------- 112.6/760.0 kB 1.3 MB/s eta 0:00:01\n",
      "     -------- ----------------------------- 174.1/760.0 kB 1.5 MB/s eta 0:00:01\n",
      "     ------------------------- ------------ 501.8/760.0 kB 2.1 MB/s eta 0:00:01\n",
      "     -------------------------------------- 760.0/760.0 kB 2.4 MB/s eta 0:00:00\n",
      "Collecting regex>=2022.1.18 (from tiktoken)\n",
      "  Downloading https://pypi.tuna.tsinghua.edu.cn/packages/04/30/12624697d49c42a4f011035c9948c3d829eaddd01e20966ec5ae7556d84c/regex-2023.8.8-cp39-cp39-win_amd64.whl (268 kB)\n",
      "     ---------------------------------------- 0.0/268.4 kB ? eta -:--:--\n",
      "     -------------------------------------- 268.4/268.4 kB 8.3 MB/s eta 0:00:00\n",
      "Requirement already satisfied: requests>=2.26.0 in d:\\miniconda3\\envs\\llm\\lib\\site-packages (from tiktoken) (2.31.0)\n",
      "Requirement already satisfied: charset-normalizer<4,>=2 in d:\\miniconda3\\envs\\llm\\lib\\site-packages (from requests>=2.26.0->tiktoken) (3.2.0)\n",
      "Requirement already satisfied: idna<4,>=2.5 in d:\\miniconda3\\envs\\llm\\lib\\site-packages (from requests>=2.26.0->tiktoken) (3.4)\n",
      "Requirement already satisfied: urllib3<3,>=1.21.1 in d:\\miniconda3\\envs\\llm\\lib\\site-packages (from requests>=2.26.0->tiktoken) (2.0.4)\n",
      "Requirement already satisfied: certifi>=2017.4.17 in d:\\miniconda3\\envs\\llm\\lib\\site-packages (from requests>=2.26.0->tiktoken) (2023.7.22)\n",
      "Installing collected packages: regex, tiktoken\n",
      "Successfully installed regex-2023.8.8 tiktoken-0.5.1\n",
      "Looking in indexes: https://pypi.tuna.tsinghua.edu.cn/simple\n",
      "Collecting faiss-cpu\n",
      "  Downloading https://pypi.tuna.tsinghua.edu.cn/packages/d9/b6/97164ce265a66ffc90810cc4c9a241934bba8de2cff46645b0df3faf5c3d/faiss_cpu-1.7.4-cp39-cp39-win_amd64.whl (10.8 MB)\n",
      "     ---------------------------------------- 0.0/10.8 MB ? eta -:--:--\n",
      "     ---------------------------------------- 0.1/10.8 MB 2.0 MB/s eta 0:00:06\n",
      "      --------------------------------------- 0.2/10.8 MB 2.5 MB/s eta 0:00:05\n",
      "     - -------------------------------------- 0.5/10.8 MB 3.7 MB/s eta 0:00:03\n",
      "     --- ------------------------------------ 0.8/10.8 MB 4.8 MB/s eta 0:00:03\n",
      "     ---- ----------------------------------- 1.3/10.8 MB 6.1 MB/s eta 0:00:02\n",
      "     ------ --------------------------------- 1.7/10.8 MB 6.8 MB/s eta 0:00:02\n",
      "     ------ --------------------------------- 1.8/10.8 MB 5.8 MB/s eta 0:00:02\n",
      "     -------- ------------------------------- 2.4/10.8 MB 6.6 MB/s eta 0:00:02\n",
      "     ----------- ---------------------------- 3.0/10.8 MB 8.1 MB/s eta 0:00:01\n",
      "     ----------- ---------------------------- 3.0/10.8 MB 8.1 MB/s eta 0:00:01\n",
      "     ----------- ---------------------------- 3.0/10.8 MB 8.1 MB/s eta 0:00:01\n",
      "     ------------ --------------------------- 3.3/10.8 MB 6.1 MB/s eta 0:00:02\n",
      "     ---------------- ----------------------- 4.5/10.8 MB 7.5 MB/s eta 0:00:01\n",
      "     ------------------ --------------------- 5.0/10.8 MB 7.8 MB/s eta 0:00:01\n",
      "     -------------------- ------------------- 5.6/10.8 MB 8.3 MB/s eta 0:00:01\n",
      "     ---------------------- ----------------- 6.1/10.8 MB 8.3 MB/s eta 0:00:01\n",
      "     ------------------------ --------------- 6.6/10.8 MB 8.7 MB/s eta 0:00:01\n",
      "     -------------------------- ------------- 7.2/10.8 MB 8.8 MB/s eta 0:00:01\n",
      "     ---------------------------- ----------- 7.7/10.8 MB 9.0 MB/s eta 0:00:01\n",
      "     ------------------------------ --------- 8.2/10.8 MB 9.0 MB/s eta 0:00:01\n",
      "     -------------------------------- ------- 8.7/10.8 MB 9.1 MB/s eta 0:00:01\n",
      "     ---------------------------------- ----- 9.2/10.8 MB 9.2 MB/s eta 0:00:01\n",
      "     ------------------------------------ --- 9.8/10.8 MB 9.3 MB/s eta 0:00:01\n",
      "     ------------------------------------- -- 10.2/10.8 MB 9.3 MB/s eta 0:00:01\n",
      "     -------------------------------------- - 10.3/10.8 MB 9.0 MB/s eta 0:00:01\n",
      "     ---------------------------------------  10.8/10.8 MB 9.8 MB/s eta 0:00:01\n",
      "     ---------------------------------------- 10.8/10.8 MB 9.5 MB/s eta 0:00:00\n",
      "Installing collected packages: faiss-cpu\n",
      "Successfully installed faiss-cpu-1.7.4\n"
     ]
    }
   ],
   "source": [
    "!pip install langchain\n",
    "!pip install openai\n",
    "!pip install tiktoken\n",
    "!pip install faiss-cpu"
   ]
  },
  {
   "cell_type": "markdown",
   "source": [
    "扔给LLM一段文本，让它给你生成总结可以说是最常见的场景之一了。\n",
    "\n",
    "目前最火的应用应该是 chatPDF，就是这种功能。"
   ],
   "metadata": {
    "collapsed": false
   },
   "id": "892f2a70e9448ead"
  },
  {
   "cell_type": "markdown",
   "source": [
    "## 短文本总结"
   ],
   "metadata": {
    "collapsed": false
   },
   "id": "a2ecc5e7bc9919cd"
  },
  {
   "cell_type": "code",
   "execution_count": 6,
   "outputs": [],
   "source": [
    "from langchain.llms import OpenAI\n",
    "from langchain import PromptTemplate\n",
    "\n",
    "llm = OpenAI(temperature=0, model_name='gpt-3.5-turbo')  # 初始化LLM模型\n",
    "\n",
    "# 创建模板\n",
    "template = \"\"\"\n",
    "%说明:\n",
    "请总结下面的一段文字。\n",
    "以一个5岁的孩子能够理解的方式回应。\n",
    "%文本:\n",
    "{text}\n",
    "\"\"\"\n",
    "\n",
    "# 创建一个 Lang Chain Prompt 模板，稍后可以插入值\n",
    "prompt = PromptTemplate(\n",
    "    input_variables=[\"text\"],\n",
    "    template=template,\n",
    ")"
   ],
   "metadata": {
    "collapsed": false,
    "ExecuteTime": {
     "end_time": "2023-09-18T13:24:55.477903800Z",
     "start_time": "2023-09-18T13:24:55.468901200Z"
    }
   },
   "id": "a52aa7b9768667c8"
  },
  {
   "cell_type": "code",
   "execution_count": 7,
   "outputs": [],
   "source": [
    "confusing_text = \"\"\"\n",
    "在接下来的130年里，争论愈演愈烈。\n",
    "一些科学家称原滑行体为地衣，另一些科学家称其为真菌，还有一些科学家坚持认为它是某种树。\n",
    "地球物理科学和进化生物学委员会副教授博伊斯说：“问题是，当你近距离观察解剖结构时，它会唤起很多不同的东西，但它什么都不能诊断。”。\n",
    "“它太大了，每当有人说它是什么东西时，其他人都会大发雷霆：‘你怎么会有20英尺高的地衣？’”\n",
    "\"\"\""
   ],
   "metadata": {
    "collapsed": false,
    "ExecuteTime": {
     "end_time": "2023-09-18T13:24:57.336492300Z",
     "start_time": "2023-09-18T13:24:57.329982700Z"
    }
   },
   "id": "f59821acc9d83f52"
  },
  {
   "cell_type": "code",
   "execution_count": 8,
   "outputs": [
    {
     "name": "stdout",
     "output_type": "stream",
     "text": [
      "------- Prompt Begin -------\n",
      "\n",
      "%说明:\n",
      "请总结下面的一段文字。\n",
      "以一个5岁的孩子能够理解的方式回应。\n",
      "%文本:\n",
      "\n",
      "在接下来的130年里，争论愈演愈烈。\n",
      "一些科学家称原滑行体为地衣，另一些科学家称其为真菌，还有一些科学家坚持认为它是某种树。\n",
      "地球物理科学和进化生物学委员会副教授博伊斯说：“问题是，当你近距离观察解剖结构时，它会唤起很多不同的东西，但它什么都不能诊断。”。\n",
      "“它太大了，每当有人说它是什么东西时，其他人都会大发雷霆：‘你怎么会有20英尺高的地衣？’”\n",
      "\n",
      "\n",
      "------- Prompt End -------\n"
     ]
    }
   ],
   "source": [
    "print(\"------- Prompt Begin -------\")\n",
    "# 打印模板内容\n",
    "final_prompt = prompt.format(text=confusing_text)\n",
    "print(final_prompt)\n",
    "\n",
    "print(\"------- Prompt End -------\")"
   ],
   "metadata": {
    "collapsed": false,
    "ExecuteTime": {
     "end_time": "2023-09-18T13:25:00.377177200Z",
     "start_time": "2023-09-18T13:25:00.354686Z"
    }
   },
   "id": "3baec679f05436cd"
  },
  {
   "cell_type": "code",
   "execution_count": 9,
   "outputs": [
    {
     "name": "stdout",
     "output_type": "stream",
     "text": [
      "在过去的130年里，科学家们对一个滑行体的身份进行了激烈的争论。有些科学家认为它是地衣，有些科学家认为它是真菌，还有一些科学家认为它是某种树。一个科学家说：“问题是，当你仔细观察它的结构时，它会让人想到很多不同的东西，但它并不能确定是什么。”他还说：“它太大了，每当有人说它是某种东西时，其他人都会生气地说：‘你怎么可能有20英尺高的地衣呢？’”\n"
     ]
    }
   ],
   "source": [
    "output = llm(final_prompt)\n",
    "print(output)"
   ],
   "metadata": {
    "collapsed": false,
    "ExecuteTime": {
     "end_time": "2023-09-18T13:25:27.350973300Z",
     "start_time": "2023-09-18T13:25:19.290217300Z"
    }
   },
   "id": "8190a46721f8f956"
  },
  {
   "cell_type": "markdown",
   "source": [
    "## 长文本总结"
   ],
   "metadata": {
    "collapsed": false
   },
   "id": "e275663a82d51f3f"
  },
  {
   "cell_type": "markdown",
   "source": [
    "对于文本长度较短的文本我们可以直接这样执行summary操作\n",
    "但是对于文本长度超过LLM支持的max token size 时将会遇到困难\n",
    "Lang Chain 提供了开箱即用的工具解决长文本的问题：load_summarize_chain"
   ],
   "metadata": {
    "collapsed": false
   },
   "id": "b9810924bd595f82"
  },
  {
   "cell_type": "code",
   "execution_count": 11,
   "outputs": [],
   "source": [
    "from langchain.llms import OpenAI\n",
    "from langchain.chains.summarize import load_summarize_chain\n",
    "from langchain.text_splitter import RecursiveCharacterTextSplitter\n",
    "\n",
    "llm = OpenAI(temperature=0)"
   ],
   "metadata": {
    "collapsed": false,
    "ExecuteTime": {
     "end_time": "2023-09-18T13:30:19.187352400Z",
     "start_time": "2023-09-18T13:30:19.182664800Z"
    }
   },
   "id": "45da57d23dc49df2"
  },
  {
   "cell_type": "code",
   "execution_count": 12,
   "outputs": [
    {
     "ename": "FileNotFoundError",
     "evalue": "[Errno 2] No such file or directory: 'wonderland.txt'",
     "output_type": "error",
     "traceback": [
      "\u001B[1;31m---------------------------------------------------------------------------\u001B[0m",
      "\u001B[1;31mFileNotFoundError\u001B[0m                         Traceback (most recent call last)",
      "Cell \u001B[1;32mIn[12], line 1\u001B[0m\n\u001B[1;32m----> 1\u001B[0m \u001B[38;5;28;01mwith\u001B[39;00m \u001B[38;5;28;43mopen\u001B[39;49m\u001B[43m(\u001B[49m\u001B[38;5;124;43m'\u001B[39;49m\u001B[38;5;124;43mwonderland.txt\u001B[39;49m\u001B[38;5;124;43m'\u001B[39;49m\u001B[43m,\u001B[49m\u001B[43m \u001B[49m\u001B[38;5;124;43m'\u001B[39;49m\u001B[38;5;124;43mr\u001B[39;49m\u001B[38;5;124;43m'\u001B[39;49m\u001B[43m)\u001B[49m \u001B[38;5;28;01mas\u001B[39;00m file:  \u001B[38;5;66;03m# 文章本身是爱丽丝梦游仙境\u001B[39;00m\n\u001B[0;32m      2\u001B[0m     text \u001B[38;5;241m=\u001B[39m file\u001B[38;5;241m.\u001B[39mread()\n\u001B[0;32m      4\u001B[0m \u001B[38;5;28mprint\u001B[39m(text[:\u001B[38;5;241m285\u001B[39m])  \u001B[38;5;66;03m# 打印小说的前285个字符\u001B[39;00m\n",
      "File \u001B[1;32mD:\\miniconda3\\envs\\llm\\lib\\site-packages\\IPython\\core\\interactiveshell.py:286\u001B[0m, in \u001B[0;36m_modified_open\u001B[1;34m(file, *args, **kwargs)\u001B[0m\n\u001B[0;32m    279\u001B[0m \u001B[38;5;28;01mif\u001B[39;00m file \u001B[38;5;129;01min\u001B[39;00m {\u001B[38;5;241m0\u001B[39m, \u001B[38;5;241m1\u001B[39m, \u001B[38;5;241m2\u001B[39m}:\n\u001B[0;32m    280\u001B[0m     \u001B[38;5;28;01mraise\u001B[39;00m \u001B[38;5;167;01mValueError\u001B[39;00m(\n\u001B[0;32m    281\u001B[0m         \u001B[38;5;124mf\u001B[39m\u001B[38;5;124m\"\u001B[39m\u001B[38;5;124mIPython won\u001B[39m\u001B[38;5;124m'\u001B[39m\u001B[38;5;124mt let you open fd=\u001B[39m\u001B[38;5;132;01m{\u001B[39;00mfile\u001B[38;5;132;01m}\u001B[39;00m\u001B[38;5;124m by default \u001B[39m\u001B[38;5;124m\"\u001B[39m\n\u001B[0;32m    282\u001B[0m         \u001B[38;5;124m\"\u001B[39m\u001B[38;5;124mas it is likely to crash IPython. If you know what you are doing, \u001B[39m\u001B[38;5;124m\"\u001B[39m\n\u001B[0;32m    283\u001B[0m         \u001B[38;5;124m\"\u001B[39m\u001B[38;5;124myou can use builtins\u001B[39m\u001B[38;5;124m'\u001B[39m\u001B[38;5;124m open.\u001B[39m\u001B[38;5;124m\"\u001B[39m\n\u001B[0;32m    284\u001B[0m     )\n\u001B[1;32m--> 286\u001B[0m \u001B[38;5;28;01mreturn\u001B[39;00m io_open(file, \u001B[38;5;241m*\u001B[39margs, \u001B[38;5;241m*\u001B[39m\u001B[38;5;241m*\u001B[39mkwargs)\n",
      "\u001B[1;31mFileNotFoundError\u001B[0m: [Errno 2] No such file or directory: 'wonderland.txt'"
     ]
    }
   ],
   "source": [
    "with open('wonderland.txt', 'r') as file:  # 文章本身是爱丽丝梦游仙境\n",
    "    text = file.read()\n",
    "\n",
    "print(text[:285])  # 打印小说的前285个字符"
   ],
   "metadata": {
    "collapsed": false,
    "ExecuteTime": {
     "end_time": "2023-09-18T13:31:07.019538200Z",
     "start_time": "2023-09-18T13:31:06.945137600Z"
    }
   },
   "id": "66a3a38779907ae3"
  }
 ],
 "metadata": {
  "kernelspec": {
   "display_name": "Python 3",
   "language": "python",
   "name": "python3"
  },
  "language_info": {
   "codemirror_mode": {
    "name": "ipython",
    "version": 2
   },
   "file_extension": ".py",
   "mimetype": "text/x-python",
   "name": "python",
   "nbconvert_exporter": "python",
   "pygments_lexer": "ipython2",
   "version": "2.7.6"
  }
 },
 "nbformat": 4,
 "nbformat_minor": 5
}
